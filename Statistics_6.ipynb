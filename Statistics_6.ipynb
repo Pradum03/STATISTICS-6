{
 "cells": [
  {
   "cell_type": "markdown",
   "id": "c8455544-5e30-45ce-a0d1-5a063e11caa9",
   "metadata": {},
   "source": [
    "ASSIGNMENT: STATISTICS-6"
   ]
  },
  {
   "cell_type": "markdown",
   "id": "ac56422d-76c1-4b14-bf88-c6dff8b7bb81",
   "metadata": {},
   "source": [
    "1.  What is the difference between a t-test and a z-test? Provide an example scenario where you would \n",
    "use each type of test."
   ]
  },
  {
   "cell_type": "markdown",
   "id": "a088aa88-6872-47b7-9c45-571e350031d6",
   "metadata": {},
   "source": [
    "Both t-test and z-test are hypothesis testing methods used to make inferences about population parameters based on sample statistics. However, they differ in their assumptions and applicability.\n",
    "\n",
    "A z-test is used when the population standard deviation is known, and the sample size is large (typically more than 30). The test statistic follows a standard normal distribution. On the other hand, a t-test is used when the population standard deviation is unknown and must be estimated from the sample. The test statistic follows a t-distribution with degrees of freedom equal to the sample size minus one.\n",
    "\n",
    "An example scenario where you would use a z-test is when you want to test if the mean height of a population is equal to a known value. Suppose the mean height of an adult population is known to be 68 inches, and you collect a large sample of 100 individuals from the same population. You can use a z-test to test the hypothesis that the sample mean height is not significantly different from the known population mean.\n",
    "\n",
    "An example scenario where you would use a t-test is when you want to test if the mean score of a sample of students on a standardized test is significantly different from the national average score. Suppose you collect a sample of 25 students and want to test the hypothesis that the sample mean score is higher than the national average score. Since the population standard deviation is unknown, you can use a t-test to make this inference."
   ]
  },
  {
   "cell_type": "markdown",
   "id": "a7bbc37c-9fb5-44da-998f-b970d78085b5",
   "metadata": {},
   "source": [
    "2. Differentiate between one-tailed and two-tailed tests."
   ]
  },
  {
   "cell_type": "markdown",
   "id": "aa4b2ba2-98af-44d0-9d91-4f772585a045",
   "metadata": {},
   "source": [
    "In hypothesis testing, a one-tailed (or one-sided) test is a statistical test that is used to determine whether the population parameter is greater than or less than a particular value. A two-tailed (or two-sided) test, on the other hand, is used to determine whether the population parameter is different from a particular value, regardless of whether it is greater or less than that value.\n",
    "\n",
    "For example, suppose we want to test whether a new drug increases the average response time on a particular task. In a one-tailed test, the null hypothesis would be that the drug has no effect on response time, and the alternative hypothesis would be that the drug increases response time. The one-tailed test would only consider response times that are longer than expected, and would not consider response times that are shorter than expected.\n",
    "\n",
    "In contrast, in a two-tailed test, the null hypothesis would be that the drug has no effect on response time, and the alternative hypothesis would be that the drug either increases or decreases response time. The two-tailed test would consider both response times that are longer than expected and response times that are shorter than expected.\n",
    "\n",
    "The choice between a one-tailed and two-tailed test depends on the research question and the directionality of the hypothesis. If the research question is specifically focused on whether the effect is in one particular direction, a one-tailed test might be appropriate. If the research question is more generally focused on whether there is an effect, regardless of direction, a two-tailed test might be more appropriate. However, it is important to carefully consider the research question and hypotheses before deciding which type of test to use."
   ]
  },
  {
   "cell_type": "markdown",
   "id": "530754dc-947c-443a-ab75-a72988bcc826",
   "metadata": {},
   "source": [
    "3.  Explain the concept of Type 1 and Type 2 errors in hypothesis testing. Provide an example scenario for \n",
    "each type of error."
   ]
  },
  {
   "cell_type": "markdown",
   "id": "bb18d040-1bbe-4d51-84a7-1e8ab1b92272",
   "metadata": {},
   "source": [
    "In hypothesis testing, there are two types of errors: Type 1 error and Type 2 error. These errors represent the likelihood of rejecting a true null hypothesis or accepting a false null hypothesis, respectively.\n",
    "\n",
    "Type 1 error occurs when we reject a true null hypothesis, which means that we conclude that there is an effect or difference between the groups when there actually is none. The probability of making a Type 1 error is denoted by α, which is the significance level that we set for our test. If α is set to 0.05, for example, then there is a 5% chance of making a Type 1 error.\n",
    "\n",
    "An example scenario of a Type 1 error is a drug company testing a new medication. If they reject the null hypothesis that the new medication has no effect, but in reality, the medication is ineffective, this is a Type 1 error. The drug company would then market and sell a medication that does not work.\n",
    "\n",
    "Type 2 error occurs when we fail to reject a false null hypothesis, which means that we conclude that there is no effect or difference between the groups when there actually is one. The probability of making a Type 2 error is denoted by β, which is determined by the power of the test. Power is the probability of correctly rejecting a false null hypothesis, which is equal to 1 - β.\n",
    "\n",
    "An example scenario of a Type 2 error is in a clinical trial testing a new cancer treatment. If they fail to reject the null hypothesis that the new treatment is no better than the existing treatment, but in reality, the new treatment is more effective, this is a Type 2 error. As a result, the new treatment would not be approved and patients would continue to receive a less effective treatment.\n",
    "\n",
    "It is important to balance the risks of Type 1 and Type 2 errors when setting the significance level and determining the power of a test. Ideally, the significance level should be low to minimize the risk of Type 1 errors, while the power should be high to minimize the risk of Type 2 errors. However, in practice, there is often a trade-off between these two errors, and researchers must carefully consider the consequences of each type of error in their particular context."
   ]
  },
  {
   "cell_type": "markdown",
   "id": "e90bcd0a-a0e2-4ae2-8304-e942cc69d432",
   "metadata": {},
   "source": [
    "4.  Explain Bayes's theorem with an example.\n"
   ]
  },
  {
   "cell_type": "markdown",
   "id": "4384a8aa-f5b2-4559-ac05-18add7745fc0",
   "metadata": {},
   "source": [
    "Bayes's theorem is a mathematical formula used to calculate the probability of an event based on prior knowledge of related events. It is named after the Reverend Thomas Bayes, who developed the formula in the 18th century.\n",
    "\n",
    "The formula for Bayes's theorem is as follows:\n",
    "\n",
    "P(A|B) = (P(B|A) * P(A)) / P(B)\n",
    "\n",
    "where:\n",
    "P(A|B) is the probability of event A given that event B has occurred\n",
    "P(B|A) is the probability of event B given that event A has occurred\n",
    "P(A) is the probability of event A\n",
    "P(B) is the probability of event B\n",
    "\n",
    "Here's an example to illustrate how Bayes's theorem works:\n",
    "\n",
    "Suppose a blood test is used to detect a certain disease. The test is known to be 95% accurate, meaning that if a person has the disease, the test will correctly identify them as positive 95% of the time, and if they don't have the disease, the test will correctly identify them as negative 95% of the time. The disease is relatively rare, occurring in only 1% of the population.\n",
    "\n",
    "Now, suppose a person tests positive for the disease. What is the probability that they actually have the disease?\n",
    "\n",
    "We can use Bayes's theorem to calculate this probability. Let's define the events as follows:\n",
    "\n",
    "A: the person has the disease\n",
    "B: the person tests positive for the disease\n",
    "\n",
    "We want to find P(A|B), the probability that the person has the disease given that they tested positive.\n",
    "\n",
    "Using Bayes's theorem, we can write:\n",
    "\n",
    "P(A|B) = (P(B|A) * P(A)) / P(B)\n",
    "\n",
    "P(B|A) is the probability of testing positive given that the person has the disease, which we know is 0.95.\n",
    "\n",
    "P(A) is the probability of having the disease, which we know is 0.01.\n",
    "\n",
    "P(B) is the probability of testing positive, which can be calculated as follows:\n",
    "\n",
    "P(B) = P(B|A) * P(A) + P(B|~A) * P(~A)\n",
    "\n",
    "where ~A denotes the event that the person does not have the disease.\n",
    "\n",
    "P(B|~A) is the probability of testing positive given that the person does not have the disease, which is 0.05. P(~A) is the probability of not having the disease, which is 0.99.\n",
    "\n",
    "So, we have:\n",
    "\n",
    "P(B) = 0.95 * 0.01 + 0.05 * 0.99 = 0.058\n",
    "\n",
    "Plugging these values into Bayes's theorem, we get:\n",
    "\n",
    "P(A|B) = (0.95 * 0.01) / 0.058 = 0.1638\n",
    "\n",
    "So the probability that the person actually has the disease given that they tested positive is about 16.4%."
   ]
  },
  {
   "cell_type": "markdown",
   "id": "579c4e79-c603-426d-9f94-12a95a9ff211",
   "metadata": {},
   "source": [
    "5. What is a confidence interval? How to calculate the confidence interval, explain with an example"
   ]
  },
  {
   "cell_type": "markdown",
   "id": "7e95a7c6-30be-48d0-9ae0-32553d8daff8",
   "metadata": {},
   "source": [
    "A confidence interval is a range of values that is likely to contain the true value of a population parameter with a certain degree of confidence. It is a statistical measure that provides a range of plausible values for a population parameter, such as a mean or proportion, based on a sample from the population.\n",
    "\n",
    "Confidence intervals are calculated using a point estimate of the population parameter, such as a sample mean or proportion, and a margin of error that reflects the variability of the sample and the desired level of confidence. The margin of error is calculated based on the standard error of the point estimate, which measures the variability of the sample mean or proportion around the true population parameter.\n",
    "\n",
    "Here's an example of how to calculate a confidence interval:\n",
    "\n",
    "Suppose we want to estimate the average height of students in a particular school, and we take a random sample of 100 students and measure their heights. We find that the sample mean height is 68 inches, and the standard deviation is 3 inches. We want to calculate a 95% confidence interval for the true population mean height.\n",
    "\n",
    "To calculate the confidence interval, we first need to calculate the standard error of the mean, which is given by:\n",
    "\n",
    "standard error of the mean = standard deviation / square root of sample size\n",
    "\n",
    "In this case, the standard error of the mean is:\n",
    "\n",
    "standard error of the mean = 3 / sqrt(100) = 0.3 inches\n",
    "\n",
    "Next, we need to determine the margin of error based on the desired level of confidence. For a 95% confidence interval, we use a z-score of 1.96, which corresponds to the area under the normal distribution curve outside of the interval (-1.96, 1.96).\n",
    "\n",
    "The margin of error is calculated by multiplying the standard error of the mean by the z-score:\n",
    "\n",
    "margin of error = z-score * standard error of the mean\n",
    "margin of error = 1.96 * 0.3 = 0.588\n",
    "\n",
    "Finally, we can construct the confidence interval by adding and subtracting the margin of error from the sample mean:\n",
    "\n",
    "confidence interval = sample mean ± margin of error\n",
    "confidence interval = 68 ± 0.588\n",
    "confidence interval = (67.41, 68.59)\n",
    "\n",
    "Therefore, we can say with 95% confidence that the true population mean height of students in the school is between 67.41 inches and 68.59 i"
   ]
  },
  {
   "cell_type": "markdown",
   "id": "78951278-4971-4d89-a415-2e8c842dbfdb",
   "metadata": {},
   "source": [
    "6.  Use Bayes' Theorem to calculate the probability of an event occurring given prior knowledge of the \n",
    "event's probability and new evidence. Provide a sample problem and solution."
   ]
  },
  {
   "cell_type": "markdown",
   "id": "33d1a512-b12a-480c-9f91-eff48e58232b",
   "metadata": {},
   "source": [
    "Suppose a factory produces light bulbs, of which 10% are defective. A quality control inspector selects a bulb at random and tests it. If the bulb tests positive for being defective, what is the probability that it is actually defective?\n",
    "\n",
    "To solve this problem using Bayes' Theorem, let's define the following events:\n",
    "\n",
    "D: the bulb is defective\n",
    "¬D: the bulb is not defective\n",
    "T: the test is positive\n",
    "¬T: the test is negative\n",
    "We want to find P(D | T), the probability that the bulb is defective given that it tests positive.\n",
    "\n",
    "Using Bayes' Theorem, we have:\n",
    "\n",
    "P(D | T) = P(T | D) * P(D) / P(T)\n",
    "\n",
    "where P(T | D) is the probability of a positive test given that the bulb is defective, P(D) is the prior probability of the bulb being defective, and P(T) is the overall probability of a positive test.\n",
    "\n",
    "We can calculate these probabilities as follows:\n",
    "\n",
    "P(T | D) = 1 (since a defective bulb will always test positive)\n",
    "P(D) = 0.1 (since 10% of the bulbs are defective)\n",
    "P(T | ¬D) = 0.05 (since 5% of non-defective bulbs will test positive, due to a false positive rate)\n",
    "P(¬D) = 0.9 (since 90% of the bulbs are not defective)\n",
    "P(T) = P(T | D) * P(D) + P(T | ¬D) * P(¬D)\n",
    "P(T) = 1 * 0.1 + 0.05 * 0.9 = 0.115\n",
    "Plugging these values into the formula, we get:\n",
    "\n",
    "P(D | T) = 1 * 0.1 / 0.115 = 0.869 or 86.9%\n",
    "\n",
    "Therefore, the probability that the bulb is actually defective given a positive test result is 86.9%. This result indicates that the test is highly reliable for identifying defective bulbs, due to the low false positive rate."
   ]
  },
  {
   "cell_type": "markdown",
   "id": "12dd3b04-1806-4476-ae11-f26f10d76aa1",
   "metadata": {},
   "source": [
    "7. Calculate the 95% confidence interval for a sample of data with a mean of 50 and a standard deviation \n",
    "of 5. Interpret the results."
   ]
  },
  {
   "cell_type": "markdown",
   "id": "c78aa64d-3ffd-4d7c-90ac-433e2d57a456",
   "metadata": {},
   "source": [
    "To calculate the 95% confidence interval for this sample of data, we can use the following formula:\n",
    "\n",
    "CI = x̄ ± z * (σ / sqrt(n))\n",
    "\n",
    "where CI is the confidence interval, x̄ is the sample mean, σ is the population standard deviation (which is unknown in this case, so we use the sample standard deviation instead), n is the sample size, and z is the critical value from the standard normal distribution for the desired confidence level (95% in this case, which corresponds to a z-value of 1.96).\n",
    "\n",
    "Plugging in the values we have:\n",
    "\n",
    "CI = 50 ± 1.96 * (5 / sqrt(n))"
   ]
  },
  {
   "cell_type": "markdown",
   "id": "dc389a3a-9a0d-42a3-95b6-fd23b680e57b",
   "metadata": {},
   "source": [
    "8. What is the margin of error in a confidence interval? How does sample size affect the margin of error? \n",
    "Provide an example of a scenario where a larger sample size would result in a smaller margin of error."
   ]
  },
  {
   "cell_type": "markdown",
   "id": "4abc15a5-908b-4c2a-8e6f-4dfb87e5f4c2",
   "metadata": {},
   "source": [
    "The margin of error is the range of values above and below a point estimate (such as the sample mean) that is likely to contain the true population parameter with a certain level of confidence. It is a measure of the precision of an estimate and is influenced by the sample size and the level of confidence.\n",
    "\n",
    "As the sample size increases, the margin of error decreases, assuming all other factors remain constant. This is because larger sample sizes provide more information about the population and reduce the effect of random sampling error.\n",
    "\n",
    "For example, suppose we want to estimate the average height of a population of trees in a park. We take a sample of 50 trees and find that the sample mean height is 20 feet, with a standard deviation of 2 feet. Using a 95% confidence level, we calculate the margin of error to be 1.96*(2/sqrt(50)) = 0.56 feet. Therefore, we can be 95% confident that the true average height of all trees in the park falls within the range of 19.44 to 20.56 feet.\n",
    "\n",
    "Now, suppose we increase the sample size to 200 trees while keeping the same level of confidence and standard deviation. Using the same formula, the margin of error becomes 1.96*(2/sqrt(200)) = 0.28 feet. This means that the range of possible values for the true average height is narrower, from 19.72 to 20.28 feet. By increasing the sample size, we have reduced the margin of error and increased the precision of our estimate.\n",
    "\n",
    "In summary, the margin of error is the measure of the accuracy of an estimate, and a larger sample size results in a smaller margin of error."
   ]
  },
  {
   "cell_type": "markdown",
   "id": "a295eff6-3498-487b-a9d1-88223fb791be",
   "metadata": {},
   "source": [
    "9.  Calculate the z-score for a data point with a value of 75, a population mean of 70, and a population \n",
    "standard deviation of 5. Interpret the results."
   ]
  },
  {
   "cell_type": "markdown",
   "id": "f9d249fd-7e94-4540-a11f-215ad1cf9150",
   "metadata": {},
   "source": [
    "z = (x - μ) / σ\n",
    "\n",
    "Where:\n",
    "\n",
    "x is the data point\n",
    "μ is the population mean\n",
    "σ is the population standard deviation\n",
    "In this problem, we have:\n",
    "\n",
    "x = 75\n",
    "μ = 70\n",
    "σ = 5\n",
    "Substituting these values into the formula, we get:\n",
    "\n",
    "z = (75 - 70) / 5\n",
    "\n",
    "z = 1\n",
    "\n",
    "Therefore, the z-score for a data point with a value of 75, a population mean of 70, and a population standard deviation of 5 is 1.\n",
    "\n",
    "Interpreting the result, a z-score of 1 means that the data point is one standard deviation above the population mean. In other words, the value of 75 is higher than the average value by one standard deviation of the population. The z-score is a standardized score that allows us to compare values from different populations or samples on a common scale, and it can be used to calculate probabilities and make statistical inferences."
   ]
  },
  {
   "cell_type": "markdown",
   "id": "acc154c6-ee33-41ce-8c6d-38d6428acea3",
   "metadata": {},
   "source": [
    "10. In a study of the effectiveness of a new weight loss drug, a sample of 50 participants lost an average \n",
    "of 6 pounds with a standard deviation of 2.5 pounds. Conduct a hypothesis test to determine if the drug is \n",
    "significantly effective at a 95% confidence level using a t-test."
   ]
  },
  {
   "cell_type": "markdown",
   "id": "209251d5-133c-42a2-a197-5839974387d9",
   "metadata": {},
   "source": [
    "\n",
    "To conduct a hypothesis test to determine if the new weight loss drug is significantly effective at a 95% confidence level, we can follow these steps:\n",
    "\n",
    "Step 1: State the null and alternative hypotheses\n",
    "\n",
    "Null hypothesis (H0): The new weight loss drug is not significantly effective.\n",
    "Alternative hypothesis (Ha): The new weight loss drug is significantly effective.\n",
    "Step 2: Set the level of significance (α)\n",
    "\n",
    "The level of significance is the maximum probability of rejecting the null hypothesis when it is true. In this case, we will use a significance level of α = 0.05, which corresponds to a 95% confidence level.\n",
    "Step 3: Determine the test statistic\n",
    "\n",
    "Since the sample size is small (n = 50), we will use a t-test to test the hypothesis. The test statistic is calculated as:\n",
    "t = (x̄ - μ) / (s / sqrt(n))\n",
    "where:\n",
    "x̄ is the sample mean\n",
    "μ is the population mean under the null hypothesis (μ = 0, since the null hypothesis assumes that the drug has no effect)\n",
    "s is the sample standard deviation\n",
    "n is the sample size\n",
    "Substituting the values given in the problem, we get:\n",
    "t = (6 - 0) / (2.5 / sqrt(50))\n",
    "t = 18.973\n",
    "\n",
    "Step 4: Determine the critical value\n",
    "\n",
    "Since this is a two-tailed test, we will divide the level of significance by 2 and look up the corresponding t-value with degrees of freedom (df) = n-1 = 49 and a significance level of α/2 = 0.025 in the t-distribution table. This gives us a critical value of ±2.009.\n",
    "Step 5: Compare the test statistic and critical value\n",
    "\n",
    "Since the test statistic (t = 18.973) is greater than the critical value (±2.009), we reject the null hypothesis and conclude that the new weight loss drug is significantly effective at a 95% confidence level.\n",
    "Step 6: Interpret the results\n",
    "\n",
    "Based on the results of the hypothesis test, we can conclude that there is sufficient evidence to support the claim that the new weight loss drug is significantly effective in reducing weight at a 95% confidence level. The sample of 50 participants lost an average of 6 pounds, which is significantly different from the population mean of 0 (assuming the null hypothesis is true"
   ]
  },
  {
   "cell_type": "markdown",
   "id": "d78de73e-4c45-4686-9d41-6ee1067c9321",
   "metadata": {},
   "source": [
    "11.  In a survey of 500 people, 65% reported being satisfied with their current job. Calculate the 95% \n",
    "confidence interval for the true proportion of people who are satisfied with their job"
   ]
  },
  {
   "cell_type": "markdown",
   "id": "0d23711e-471b-43a7-86bf-3cdf898abaa2",
   "metadata": {},
   "source": [
    "To calculate the 95% confidence interval for the true proportion of people who are satisfied with their job, we can use the following formula:\n",
    "\n",
    "Confidence interval = sample proportion ± margin of error\n",
    "\n",
    "where the margin of error is:\n",
    "\n",
    "Margin of error = z-score * standard error\n",
    "\n",
    "The z-score is based on the desired confidence level and can be found using a standard normal distribution table. For a 95% confidence level, the z-score is 1.96.\n",
    "\n",
    "The standard error can be calculated as:\n",
    "\n",
    "Standard error = sqrt(p * (1 - p) / n)\n",
    "\n",
    "where p is the sample proportion (0.65 in this case) and n is the sample size (500 in this case).\n",
    "\n",
    "So, plugging in the values we get:\n",
    "\n",
    "Standard error = sqrt(0.65 * (1 - 0.65) / 500) = 0.031\n",
    "\n",
    "Margin of error = 1.96 * 0.031 = 0.06\n",
    "\n",
    "Confidence interval = 0.65 ± 0.06\n",
    "\n",
    "Therefore, the 95% confidence interval for the true proportion of people who are satisfied with their job is (0.59, 0.71). This means that we can be 95% confident that the true proportion of people who are satisfied with their job falls between 0.59 and 0.71."
   ]
  },
  {
   "cell_type": "markdown",
   "id": "a9447502-272f-4d42-b930-9bb3e77c6083",
   "metadata": {},
   "source": [
    "12. A researcher is testing the effectiveness of two different teaching methods on student performance. \n",
    "Sample A has a mean score of 85 with a standard deviation of 6, while sample B has a mean score of 82 \n",
    "with a standard deviation of 5. Conduct a hypothesis test to determine if the two teaching methods have a \n",
    "significant difference in student performance using a t-test with a significance level of 0.01"
   ]
  },
  {
   "cell_type": "markdown",
   "id": "fd2f0d4c-a9ae-42ee-addb-e5af2612ef16",
   "metadata": {},
   "source": [
    "To conduct a hypothesis test to determine if the two teaching methods have a significant difference in student performance, we can use a two-sample t-test. The null hypothesis for this test is that the means of the two populations are equal, while the alternative hypothesis is that they are not equal. The significance level for this test is 0.01.\n",
    "\n",
    "The test statistic for the two-sample t-test is calculated as follows:\n",
    "\n",
    "t = (x̄1 - x̄2) / sqrt((s1^2/n1) + (s2^2/n2))\n",
    "\n",
    "where x̄1 and x̄2 are the sample means, s1 and s2 are the sample standard deviations, n1 and n2 are the sample sizes, and sqrt means square root.\n",
    "\n",
    "Plugging in the values we get:\n",
    "\n",
    "t = (85 - 82) / sqrt((6^2/100) + (5^2/100)) = 3 / 0.819\n",
    "\n",
    "t = 3.66\n",
    "\n",
    "Using a t-distribution table with 198 degrees of freedom (df = n1 + n2 - 2), we find the critical value for a two-tailed test with a significance level of 0.01 to be ±2.576.\n",
    "\n",
    "Since the calculated t-value (3.66) is greater than the critical value (2.576), we can reject the null hypothesis and conclude that there is a significant difference in student performance between the two teaching methods at a significance level of 0.01. In other words, the data suggests that one teaching method is better than the other."
   ]
  },
  {
   "cell_type": "markdown",
   "id": "8d6cf049-c62f-4aa3-89ee-609cf30919f4",
   "metadata": {},
   "source": [
    "13.  A population has a mean of 60 and a standard deviation of 8. A sample of 50 observations has a mean \n",
    "of 65. Calculate the 90% confidence interval for the true population mean."
   ]
  },
  {
   "cell_type": "markdown",
   "id": "c5e9689e-9aee-4f79-a460-8d702d18d5de",
   "metadata": {},
   "source": [
    "To calculate the 90% confidence interval for the true population mean, we can use the following formula:\n",
    "\n",
    "Confidence interval = sample mean ± margin of error\n",
    "\n",
    "where the margin of error is:\n",
    "\n",
    "Margin of error = z-score * (standard deviation / sqrt(sample size))\n",
    "\n",
    "The z-score is based on the desired confidence level and can be found using a standard normal distribution table. For a 90% confidence level, the z-score is 1.645.\n",
    "\n",
    "Plugging in the given values, we get:\n",
    "\n",
    "Margin of error = 1.645 * (8 / sqrt(50)) = 2.309\n",
    "\n",
    "Therefore, the 90% confidence interval for the true population mean is:\n",
    "\n",
    "Confidence interval = 65 ± 2.309\n",
    "\n",
    "Confidence interval = (62.691, 67.309)\n",
    "\n",
    "Therefore, we can be 90% confident that the true population mean falls between 62.691 and 67.309."
   ]
  },
  {
   "cell_type": "markdown",
   "id": "e483ae1e-430b-473f-ad5c-bc2a90162261",
   "metadata": {},
   "source": [
    "14.  In a study of the effects of caffeine on reaction time, a sample of 30 participants had an average \n",
    "reaction time of 0.25 seconds with a standard deviation of 0.05 seconds. Conduct a hypothesis test to \n",
    "determine if the caffeine has a significant effect on reaction time at a 90% confidence level using a t-test"
   ]
  },
  {
   "cell_type": "markdown",
   "id": "17dc0e90-7cb7-4ebb-b5ba-52eabbdaf4f5",
   "metadata": {},
   "source": [
    "To conduct a hypothesis test to determine if caffeine has a significant effect on reaction time, we can use a one-sample t-test. The null hypothesis for this test is that the mean reaction time with caffeine is equal to the population mean reaction time, while the alternative hypothesis is that the mean reaction time with caffeine is different from the population mean reaction time. The significance level for this test is 0.1 (90% confidence level).\n",
    "\n",
    "The test statistic for the one-sample t-test is calculated as follows:\n",
    "\n",
    "t = (x̄ - μ) / (s / sqrt(n))\n",
    "\n",
    "where x̄ is the sample mean, μ is the population mean, s is the sample standard deviation, and n is the sample size.\n",
    "\n",
    "Plugging in the given values we get:\n",
    "\n",
    "t = (0.25 - μ) / (0.05 / sqrt(30))\n",
    "\n",
    "To determine if caffeine has a significant effect on reaction time, we need to compare the calculated t-value with the critical t-value at a 90% confidence level with 29 degrees of freedom (df = n-1).\n",
    "\n",
    "Using a t-distribution table, we find the critical t-value to be ±1.699.\n",
    "\n",
    "If the calculated t-value is greater than or less than the critical t-value, we reject the null hypothesis and conclude that caffeine has a significant effect on reaction time at a 90% confidence level.\n",
    "\n",
    "Calculating the t-value using the given values, we get:\n",
    "\n",
    "t = (0.25 - μ) / (0.05 / sqrt(30))\n",
    "\n",
    "Simplifying the expression:\n",
    "\n",
    "t = (5 * (0.25 - μ)) / sqrt(30)\n",
    "\n",
    "We can see that the t-value depends on the difference between the sample mean and the population mean. Since we do not have any information about the population mean, we cannot calculate the exact t-value.\n",
    "\n",
    "However, assuming that the null hypothesis is true (μ = 0.25), we can calculate the t-value as follows:\n",
    "\n",
    "t = (5 * (0.25 - 0.25)) / sqrt(30) = 0\n",
    "\n",
    "Since the calculated t-value is 0, which is less than the critical t-value of ±1.699, we fail to reject the null hypothesis. Therefore, we conclude that there is no significant evidence to suggest that caffeine has a significant effect on reaction time at a 90% confidence level."
   ]
  },
  {
   "cell_type": "code",
   "execution_count": null,
   "id": "7df516ee-b389-454e-8093-933eb5d7ad3b",
   "metadata": {},
   "outputs": [],
   "source": []
  }
 ],
 "metadata": {
  "kernelspec": {
   "display_name": "Python 3 (ipykernel)",
   "language": "python",
   "name": "python3"
  },
  "language_info": {
   "codemirror_mode": {
    "name": "ipython",
    "version": 3
   },
   "file_extension": ".py",
   "mimetype": "text/x-python",
   "name": "python",
   "nbconvert_exporter": "python",
   "pygments_lexer": "ipython3",
   "version": "3.10.8"
  }
 },
 "nbformat": 4,
 "nbformat_minor": 5
}
